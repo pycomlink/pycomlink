{
 "cells": [
  {
   "cell_type": "markdown",
   "id": "036fdf0f",
   "metadata": {},
   "source": [
    "## CNN inference example in Pytorch"
   ]
  },
  {
   "cell_type": "code",
   "execution_count": null,
   "id": "bddeeb85",
   "metadata": {},
   "outputs": [],
   "source": [
    "import xarray as xr\n",
    "import matplotlib.pyplot as plt\n",
    "\n",
    "import pycomlink as pycml\n",
    "from pycomlink.processing.pytorch_utils import run_inference"
   ]
  },
  {
   "cell_type": "code",
   "execution_count": null,
   "id": "955e1c77",
   "metadata": {},
   "outputs": [],
   "source": [
    "# Load data\n",
    "data_path = pycml.io.examples.get_example_data_path()\n",
    "cmls = xr.open_dataset(data_path + '/example_cml_data.nc')\n",
    "\n",
    "# select 3 different CMLs to study\n",
    "cmls = cmls.isel(cml_id = [0, 10, 370])\n",
    "\n",
    "# Remove outliers, compute tl and interpolate missing values\n",
    "cmls['tsl'] = cmls.tsl.where(cmls.tsl != 255.0)\n",
    "cmls['rsl'] = cmls.rsl.where(cmls.rsl != -99.9)\n",
    "cmls['tl'] = cmls.tsl - cmls.rsl # calculate total loss (previous TRSL)\n",
    "cmls['tl'] = cmls.tl.interpolate_na(dim='time', method='linear', max_gap='5min')"
   ]
  },
  {
   "cell_type": "code",
   "execution_count": null,
   "id": "af78569d",
   "metadata": {},
   "outputs": [],
   "source": [
    "# Dataarray shape is expected to be (time, channels, cml_id)\n",
    "tl = cmls.tl.transpose('time', 'channel_id', 'cml_id')\n",
    "\n",
    "# Normalisation\n",
    "tl_normed = tl - tl.median(dim='time')\n",
    "\n",
    "# Standardization should be part of the specific model, because it is trained with specific preprocessing"
   ]
  },
  {
   "cell_type": "markdown",
   "id": "ee4f5c7e",
   "metadata": {},
   "source": [
    "### Option 1: Load DL model from local .pt file\n"
   ]
  },
  {
   "cell_type": "code",
   "execution_count": null,
   "id": "cd1cf8c7",
   "metadata": {},
   "outputs": [],
   "source": [
    "# Set up your own local path:\n",
    "model_path = ''\n",
    "result = run_inference.cnn_wd(model_path_or_url=model_path, data=tl_normed)"
   ]
  },
  {
   "cell_type": "markdown",
   "id": "8ace3003",
   "metadata": {},
   "source": [
    "### Option 2: Load the model from URL and cahe it"
   ]
  },
  {
   "cell_type": "code",
   "execution_count": null,
   "id": "90694530",
   "metadata": {},
   "outputs": [],
   "source": [
    "# Url adress:\n",
    "model_URL = \"https://github.com/jpolz/cml_wd_pytorch/raw/be2b15fa987838ea1f709dd0180917eebf66271a/data/dummy_model/best_model_jit.pt\"\n",
    "result = run_inference.cnn_wd(model_path_or_url=model_URL,data=tl_normed)"
   ]
  },
  {
   "cell_type": "markdown",
   "id": "33b55437",
   "metadata": {},
   "source": [
    "### Output plots"
   ]
  },
  {
   "cell_type": "code",
   "execution_count": null,
   "id": "d2228c7b",
   "metadata": {},
   "outputs": [],
   "source": [
    "for cml_id in cmls.cml_id.data:\n",
    "    fig, axs = plt.subplots(3, 1, figsize=(14, 6))\n",
    "    result.TL.sel(cml_id=cml_id).isel(channel_id=0).plot.line(x='time', ax=axs[0])\n",
    "    result.predictions.sel(cml_id=cml_id).plot.line(x='time', ax=axs[1])\n",
    "    (result.predictions.sel(cml_id=cml_id)>0.8).plot.line(x='time', ax=axs[2])\n",
    "    \n"
   ]
  }
 ],
 "metadata": {
  "kernelspec": {
   "display_name": "pycomlink-dev",
   "language": "python",
   "name": "python3"
  },
  "language_info": {
   "codemirror_mode": {
    "name": "ipython",
    "version": 3
   },
   "file_extension": ".py",
   "mimetype": "text/x-python",
   "name": "python",
   "nbconvert_exporter": "python",
   "pygments_lexer": "ipython3",
   "version": "3.12.11"
  }
 },
 "nbformat": 4,
 "nbformat_minor": 5
}
