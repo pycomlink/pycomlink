{
 "cells": [
  {
   "cell_type": "markdown",
   "id": "036fdf0f",
   "metadata": {},
   "source": [
    "## CNN inference example in Pytorch"
   ]
  },
  {
   "cell_type": "code",
   "execution_count": null,
   "id": "bddeeb85",
   "metadata": {},
   "outputs": [],
   "source": [
    "import xarray as xr\n",
    "import matplotlib.pyplot as plt\n",
    "import sys, os\n",
    "sys.path.append(os.path.abspath(os.path.join('..')))\n",
    "\n",
    "import pycomlink as pycml\n",
    "from pycomlink.processing.pytorch_util import run_inference"
   ]
  },
  {
   "cell_type": "code",
   "execution_count": null,
   "id": "4f2661c6",
   "metadata": {},
   "outputs": [],
   "source": [
    "# Enhanced debugging to understand the platform difference\n",
    "import zipfile\n",
    "import os\n",
    "import torch\n",
    "import platform\n",
    "\n",
    "print(f\"Platform: {platform.system()}\")\n",
    "print(f\"PyTorch version: {torch.__version__}\")\n",
    "\n",
    "cache_dir = os.path.expanduser(\"~/.cml_wd_pytorch/models/\")\n",
    "if os.path.exists(cache_dir):\n",
    "    files = [f for f in os.listdir(cache_dir) if f.endswith('.pt2')]\n",
    "    if files:\n",
    "        model_file = os.path.join(cache_dir, files[0])\n",
    "        print(f\"\\nModel file: {model_file}\")\n",
    "        \n",
    "        # Test what torch.export.load is actually looking for\n",
    "        try:\n",
    "            print(\"\\n=== Testing torch.export.load behavior ===\")\n",
    "            exported_program = torch.export.load(model_file)\n",
    "            print(\"SUCCESS: torch.export.load worked!\")\n",
    "        except Exception as e:\n",
    "            print(f\"FAILED: {e}\")\n",
    "            \n",
    "            # Check what files torch.export.load expects vs what exists\n",
    "            with zipfile.ZipFile(model_file, 'r') as zipf:\n",
    "                file_list = zipf.namelist()\n",
    "                print(f\"\\nFiles in archive: {file_list}\")\n",
    "                \n",
    "                # Check if there are different expectations\n",
    "                expected_files = ['version', 'data.pkl', 'constants.pkl']\n",
    "                print(f\"\\nChecking for commonly expected files:\")\n",
    "                for expected in expected_files:\n",
    "                    if expected in file_list:\n",
    "                        print(f\"  ✓ {expected} found\")\n",
    "                    else:\n",
    "                        print(f\"  ✗ {expected} missing\")\n",
    "                        # Look for similar files\n",
    "                        similar = [f for f in file_list if expected in f]\n",
    "                        if similar:\n",
    "                            print(f\"    Similar files: {similar}\")\n",
    "        \n",
    "        # Also test the specific error path\n",
    "        print(f\"\\n=== Testing specific file access ===\")\n",
    "        with zipfile.ZipFile(model_file, 'r') as zipf:\n",
    "            try:\n",
    "                version_data = zipf.read('version')\n",
    "                print(\"✓ Can read 'version' at root\")\n",
    "            except KeyError:\n",
    "                print(\"✗ Cannot read 'version' at root\")\n",
    "                try:\n",
    "                    version_data = zipf.read('best_model_exported/.data/version')\n",
    "                    print(\"✓ Can read 'best_model_exported/.data/version'\")\n",
    "                    print(f\"  Content: {version_data.decode().strip()}\")\n",
    "                except KeyError:\n",
    "                    print(\"✗ Cannot read version file at nested path either\")"
   ]
  },
  {
   "cell_type": "code",
   "execution_count": null,
   "id": "955e1c77",
   "metadata": {},
   "outputs": [],
   "source": [
    "# Load data\n",
    "data_path = pycml.io.examples.get_example_data_path()\n",
    "cmls = xr.open_dataset(data_path + '/example_cml_data.nc')\n",
    "\n",
    "# select 3 different CMLs to study\n",
    "cmls = cmls.isel(cml_id = [0, 10, 370])\n",
    "\n",
    "# Remove outliers, compute tl and interpolate missing values\n",
    "cmls['tsl'] = cmls.tsl.where(cmls.tsl != 255.0)\n",
    "cmls['rsl'] = cmls.rsl.where(cmls.rsl != -99.9)\n",
    "cmls['tl'] = cmls.tsl - cmls.rsl # calculate total loss (previous TRSL)\n",
    "cmls['tl'] = cmls.tl.interpolate_na(dim='time', method='linear', max_gap='5min')"
   ]
  },
  {
   "cell_type": "code",
   "execution_count": null,
   "id": "af78569d",
   "metadata": {},
   "outputs": [],
   "source": [
    "# Dataarray shape is expected to be (time, channels, cml_id)\n",
    "tl = cmls.tl.transpose('time', 'channel_id', 'cml_id')\n",
    "\n",
    "# Normalisation\n",
    "tl_normed = tl - tl.median(dim='time')\n",
    "\n",
    "# TODO: Isn't standardization still needed ?"
   ]
  },
  {
   "cell_type": "markdown",
   "id": "ee4f5c7e",
   "metadata": {},
   "source": [
    "### Option 1: Load DL model and set up a path for model weights"
   ]
  },
  {
   "cell_type": "raw",
   "id": "62686290",
   "metadata": {
    "vscode": {
     "languageId": "raw"
    }
   },
   "source": [
    "# Loading from file should support .pt2 and optional config.yml \n",
    "# also with hardcoded reflength: 60 if the config isn't available\n",
    "\n",
    "# Set up your own path:\n",
    "weights_path = 'C:/Users/lukas/.cml_wd_pytorch/models/best_model_exported.pt2'\n",
    "result = run_inference.cnn_wd(model_path_or_url=weights_path, data=tl_normed)"
   ]
  },
  {
   "cell_type": "markdown",
   "id": "8ace3003",
   "metadata": {},
   "source": [
    "### Option 2: Load the model from URL and cahe it"
   ]
  },
  {
   "cell_type": "code",
   "execution_count": null,
   "id": "90694530",
   "metadata": {},
   "outputs": [],
   "source": [
    "# TODO: We need one simple class for example polz_2025_cnn, which loads specific cnn.py model and weights in .pt2 file from url\n",
    "# so none of those will be in pycomlink\n",
    "# the user should only choose a model by a name and the rest of the complexity is hidden\n",
    "# leave the url option\n",
    "# config should be optional, if its not provided, set reflength: 60  # Length of the radar data to consider for rainfall rate or wet label calculation\n",
    "\n",
    "## something like this:\n",
    "#model_url = \"https://github ... .pt2\"\n",
    "#config_url_or_path = ...       # if none, reflength will be set to 60\n",
    "#result = pytorch_util.cnn_wd(model_url, config_url_or_path, data=tl_normed)\n",
    "\n",
    "\n",
    "#model_URL = \"https://github.com/jpolz/cml_wd_pytorch/raw/refs/heads/main/data/dummy_model/model_epoch_15.pth\"\n",
    "#model_URL = \"https://opensense.zulipchat.com/user_uploads/54359/Pwh8GzePbbOdYkY48FfN7BJE/best_model_exported.pt2\"\n",
    "model_URL = \"https://github.com/jpolz/cml_wd_pytorch/raw/refs/heads/jpolz/main/flexible_metrics/data/dummy_model/best_model_exported.pt2\"\n",
    "result = run_inference.cnn_wd(model_path_or_url=model_URL,data=tl_normed, batch_size=1)"
   ]
  },
  {
   "cell_type": "code",
   "execution_count": null,
   "id": "53ba5d10",
   "metadata": {},
   "outputs": [],
   "source": [
    "import torch\n",
    "print(f\"PyTorch version: {torch.__version__}\")"
   ]
  },
  {
   "cell_type": "code",
   "execution_count": null,
   "id": "d2228c7b",
   "metadata": {},
   "outputs": [],
   "source": [
    "for cml_id in cmls.cml_id.data:\n",
    "    fig, axs = plt.subplots(3, 1, figsize=(14, 6))\n",
    "    result.TL.sel(cml_id=cml_id).isel(channel_id=0).plot.line(x='time', ax=axs[0])\n",
    "    result.predictions.sel(cml_id=cml_id).plot.line(x='time', ax=axs[1])\n",
    "    (result.predictions.sel(cml_id=cml_id)>0.8).plot.line(x='time', ax=axs[2])\n",
    "    \n"
   ]
  },
  {
   "cell_type": "code",
   "execution_count": null,
   "id": "655be692",
   "metadata": {},
   "outputs": [],
   "source": []
  }
 ],
 "metadata": {
  "kernelspec": {
   "display_name": "pycomlink-dev",
   "language": "python",
   "name": "python3"
  },
  "language_info": {
   "codemirror_mode": {
    "name": "ipython",
    "version": 3
   },
   "file_extension": ".py",
   "mimetype": "text/x-python",
   "name": "python",
   "nbconvert_exporter": "python",
   "pygments_lexer": "ipython3",
   "version": "3.12.11"
  }
 },
 "nbformat": 4,
 "nbformat_minor": 5
}
