{
 "cells": [
  {
   "cell_type": "code",
   "execution_count": 1,
   "metadata": {},
   "outputs": [],
   "source": [
    "%load_ext autoreload \n",
    "%autoreload 2"
   ]
  },
  {
   "cell_type": "code",
   "execution_count": 2,
   "metadata": {},
   "outputs": [],
   "source": [
    "%matplotlib widget"
   ]
  },
  {
   "cell_type": "code",
   "execution_count": 100,
   "metadata": {},
   "outputs": [],
   "source": [
    "import numpy as np\n",
    "import matplotlib.pyplot as plt\n",
    "import tqdm\n",
    "\n",
    "import pycomlink as pycml"
   ]
  },
  {
   "cell_type": "markdown",
   "metadata": {},
   "source": [
    "# Load example data and look at one CML"
   ]
  },
  {
   "cell_type": "code",
   "execution_count": 4,
   "metadata": {},
   "outputs": [
    {
     "name": "stderr",
     "output_type": "stream",
     "text": [
      "100%|██████████| 75/75 [00:01<00:00, 62.67it/s]\n"
     ]
    }
   ],
   "source": [
    "cml_list = pycml.io.examples.get_75_cmls()"
   ]
  },
  {
   "cell_type": "code",
   "execution_count": 5,
   "metadata": {},
   "outputs": [
    {
     "data": {
      "text/html": [
       "<div><svg style=\"position: absolute; width: 0; height: 0; overflow: hidden\">\n",
       "<defs>\n",
       "<symbol id=\"icon-database\" viewBox=\"0 0 32 32\">\n",
       "<path d=\"M16 0c-8.837 0-16 2.239-16 5v4c0 2.761 7.163 5 16 5s16-2.239 16-5v-4c0-2.761-7.163-5-16-5z\"></path>\n",
       "<path d=\"M16 17c-8.837 0-16-2.239-16-5v6c0 2.761 7.163 5 16 5s16-2.239 16-5v-6c0 2.761-7.163 5-16 5z\"></path>\n",
       "<path d=\"M16 26c-8.837 0-16-2.239-16-5v6c0 2.761 7.163 5 16 5s16-2.239 16-5v-6c0 2.761-7.163 5-16 5z\"></path>\n",
       "</symbol>\n",
       "<symbol id=\"icon-file-text2\" viewBox=\"0 0 32 32\">\n",
       "<path d=\"M28.681 7.159c-0.694-0.947-1.662-2.053-2.724-3.116s-2.169-2.030-3.116-2.724c-1.612-1.182-2.393-1.319-2.841-1.319h-15.5c-1.378 0-2.5 1.121-2.5 2.5v27c0 1.378 1.122 2.5 2.5 2.5h23c1.378 0 2.5-1.122 2.5-2.5v-19.5c0-0.448-0.137-1.23-1.319-2.841zM24.543 5.457c0.959 0.959 1.712 1.825 2.268 2.543h-4.811v-4.811c0.718 0.556 1.584 1.309 2.543 2.268zM28 29.5c0 0.271-0.229 0.5-0.5 0.5h-23c-0.271 0-0.5-0.229-0.5-0.5v-27c0-0.271 0.229-0.5 0.5-0.5 0 0 15.499-0 15.5 0v7c0 0.552 0.448 1 1 1h7v19.5z\"></path>\n",
       "<path d=\"M23 26h-14c-0.552 0-1-0.448-1-1s0.448-1 1-1h14c0.552 0 1 0.448 1 1s-0.448 1-1 1z\"></path>\n",
       "<path d=\"M23 22h-14c-0.552 0-1-0.448-1-1s0.448-1 1-1h14c0.552 0 1 0.448 1 1s-0.448 1-1 1z\"></path>\n",
       "<path d=\"M23 18h-14c-0.552 0-1-0.448-1-1s0.448-1 1-1h14c0.552 0 1 0.448 1 1s-0.448 1-1 1z\"></path>\n",
       "</symbol>\n",
       "</defs>\n",
       "</svg>\n",
       "<style>/* CSS stylesheet for displaying xarray objects in jupyterlab.\n",
       " *\n",
       " */\n",
       "\n",
       ":root {\n",
       "  --xr-font-color0: var(--jp-content-font-color0, rgba(0, 0, 0, 1));\n",
       "  --xr-font-color2: var(--jp-content-font-color2, rgba(0, 0, 0, 0.54));\n",
       "  --xr-font-color3: var(--jp-content-font-color3, rgba(0, 0, 0, 0.38));\n",
       "  --xr-border-color: var(--jp-border-color2, #e0e0e0);\n",
       "  --xr-disabled-color: var(--jp-layout-color3, #bdbdbd);\n",
       "  --xr-background-color: var(--jp-layout-color0, white);\n",
       "  --xr-background-color-row-even: var(--jp-layout-color1, white);\n",
       "  --xr-background-color-row-odd: var(--jp-layout-color2, #eeeeee);\n",
       "}\n",
       "\n",
       "html[theme=dark],\n",
       "body.vscode-dark {\n",
       "  --xr-font-color0: rgba(255, 255, 255, 1);\n",
       "  --xr-font-color2: rgba(255, 255, 255, 0.54);\n",
       "  --xr-font-color3: rgba(255, 255, 255, 0.38);\n",
       "  --xr-border-color: #1F1F1F;\n",
       "  --xr-disabled-color: #515151;\n",
       "  --xr-background-color: #111111;\n",
       "  --xr-background-color-row-even: #111111;\n",
       "  --xr-background-color-row-odd: #313131;\n",
       "}\n",
       "\n",
       ".xr-wrap {\n",
       "  display: block;\n",
       "  min-width: 300px;\n",
       "  max-width: 700px;\n",
       "}\n",
       "\n",
       ".xr-text-repr-fallback {\n",
       "  /* fallback to plain text repr when CSS is not injected (untrusted notebook) */\n",
       "  display: none;\n",
       "}\n",
       "\n",
       ".xr-header {\n",
       "  padding-top: 6px;\n",
       "  padding-bottom: 6px;\n",
       "  margin-bottom: 4px;\n",
       "  border-bottom: solid 1px var(--xr-border-color);\n",
       "}\n",
       "\n",
       ".xr-header > div,\n",
       ".xr-header > ul {\n",
       "  display: inline;\n",
       "  margin-top: 0;\n",
       "  margin-bottom: 0;\n",
       "}\n",
       "\n",
       ".xr-obj-type,\n",
       ".xr-array-name {\n",
       "  margin-left: 2px;\n",
       "  margin-right: 10px;\n",
       "}\n",
       "\n",
       ".xr-obj-type {\n",
       "  color: var(--xr-font-color2);\n",
       "}\n",
       "\n",
       ".xr-sections {\n",
       "  padding-left: 0 !important;\n",
       "  display: grid;\n",
       "  grid-template-columns: 150px auto auto 1fr 20px 20px;\n",
       "}\n",
       "\n",
       ".xr-section-item {\n",
       "  display: contents;\n",
       "}\n",
       "\n",
       ".xr-section-item input {\n",
       "  display: none;\n",
       "}\n",
       "\n",
       ".xr-section-item input + label {\n",
       "  color: var(--xr-disabled-color);\n",
       "}\n",
       "\n",
       ".xr-section-item input:enabled + label {\n",
       "  cursor: pointer;\n",
       "  color: var(--xr-font-color2);\n",
       "}\n",
       "\n",
       ".xr-section-item input:enabled + label:hover {\n",
       "  color: var(--xr-font-color0);\n",
       "}\n",
       "\n",
       ".xr-section-summary {\n",
       "  grid-column: 1;\n",
       "  color: var(--xr-font-color2);\n",
       "  font-weight: 500;\n",
       "}\n",
       "\n",
       ".xr-section-summary > span {\n",
       "  display: inline-block;\n",
       "  padding-left: 0.5em;\n",
       "}\n",
       "\n",
       ".xr-section-summary-in:disabled + label {\n",
       "  color: var(--xr-font-color2);\n",
       "}\n",
       "\n",
       ".xr-section-summary-in + label:before {\n",
       "  display: inline-block;\n",
       "  content: '►';\n",
       "  font-size: 11px;\n",
       "  width: 15px;\n",
       "  text-align: center;\n",
       "}\n",
       "\n",
       ".xr-section-summary-in:disabled + label:before {\n",
       "  color: var(--xr-disabled-color);\n",
       "}\n",
       "\n",
       ".xr-section-summary-in:checked + label:before {\n",
       "  content: '▼';\n",
       "}\n",
       "\n",
       ".xr-section-summary-in:checked + label > span {\n",
       "  display: none;\n",
       "}\n",
       "\n",
       ".xr-section-summary,\n",
       ".xr-section-inline-details {\n",
       "  padding-top: 4px;\n",
       "  padding-bottom: 4px;\n",
       "}\n",
       "\n",
       ".xr-section-inline-details {\n",
       "  grid-column: 2 / -1;\n",
       "}\n",
       "\n",
       ".xr-section-details {\n",
       "  display: none;\n",
       "  grid-column: 1 / -1;\n",
       "  margin-bottom: 5px;\n",
       "}\n",
       "\n",
       ".xr-section-summary-in:checked ~ .xr-section-details {\n",
       "  display: contents;\n",
       "}\n",
       "\n",
       ".xr-array-wrap {\n",
       "  grid-column: 1 / -1;\n",
       "  display: grid;\n",
       "  grid-template-columns: 20px auto;\n",
       "}\n",
       "\n",
       ".xr-array-wrap > label {\n",
       "  grid-column: 1;\n",
       "  vertical-align: top;\n",
       "}\n",
       "\n",
       ".xr-preview {\n",
       "  color: var(--xr-font-color3);\n",
       "}\n",
       "\n",
       ".xr-array-preview,\n",
       ".xr-array-data {\n",
       "  padding: 0 5px !important;\n",
       "  grid-column: 2;\n",
       "}\n",
       "\n",
       ".xr-array-data,\n",
       ".xr-array-in:checked ~ .xr-array-preview {\n",
       "  display: none;\n",
       "}\n",
       "\n",
       ".xr-array-in:checked ~ .xr-array-data,\n",
       ".xr-array-preview {\n",
       "  display: inline-block;\n",
       "}\n",
       "\n",
       ".xr-dim-list {\n",
       "  display: inline-block !important;\n",
       "  list-style: none;\n",
       "  padding: 0 !important;\n",
       "  margin: 0;\n",
       "}\n",
       "\n",
       ".xr-dim-list li {\n",
       "  display: inline-block;\n",
       "  padding: 0;\n",
       "  margin: 0;\n",
       "}\n",
       "\n",
       ".xr-dim-list:before {\n",
       "  content: '(';\n",
       "}\n",
       "\n",
       ".xr-dim-list:after {\n",
       "  content: ')';\n",
       "}\n",
       "\n",
       ".xr-dim-list li:not(:last-child):after {\n",
       "  content: ',';\n",
       "  padding-right: 5px;\n",
       "}\n",
       "\n",
       ".xr-has-index {\n",
       "  font-weight: bold;\n",
       "}\n",
       "\n",
       ".xr-var-list,\n",
       ".xr-var-item {\n",
       "  display: contents;\n",
       "}\n",
       "\n",
       ".xr-var-item > div,\n",
       ".xr-var-item label,\n",
       ".xr-var-item > .xr-var-name span {\n",
       "  background-color: var(--xr-background-color-row-even);\n",
       "  margin-bottom: 0;\n",
       "}\n",
       "\n",
       ".xr-var-item > .xr-var-name:hover span {\n",
       "  padding-right: 5px;\n",
       "}\n",
       "\n",
       ".xr-var-list > li:nth-child(odd) > div,\n",
       ".xr-var-list > li:nth-child(odd) > label,\n",
       ".xr-var-list > li:nth-child(odd) > .xr-var-name span {\n",
       "  background-color: var(--xr-background-color-row-odd);\n",
       "}\n",
       "\n",
       ".xr-var-name {\n",
       "  grid-column: 1;\n",
       "}\n",
       "\n",
       ".xr-var-dims {\n",
       "  grid-column: 2;\n",
       "}\n",
       "\n",
       ".xr-var-dtype {\n",
       "  grid-column: 3;\n",
       "  text-align: right;\n",
       "  color: var(--xr-font-color2);\n",
       "}\n",
       "\n",
       ".xr-var-preview {\n",
       "  grid-column: 4;\n",
       "}\n",
       "\n",
       ".xr-var-name,\n",
       ".xr-var-dims,\n",
       ".xr-var-dtype,\n",
       ".xr-preview,\n",
       ".xr-attrs dt {\n",
       "  white-space: nowrap;\n",
       "  overflow: hidden;\n",
       "  text-overflow: ellipsis;\n",
       "  padding-right: 10px;\n",
       "}\n",
       "\n",
       ".xr-var-name:hover,\n",
       ".xr-var-dims:hover,\n",
       ".xr-var-dtype:hover,\n",
       ".xr-attrs dt:hover {\n",
       "  overflow: visible;\n",
       "  width: auto;\n",
       "  z-index: 1;\n",
       "}\n",
       "\n",
       ".xr-var-attrs,\n",
       ".xr-var-data {\n",
       "  display: none;\n",
       "  background-color: var(--xr-background-color) !important;\n",
       "  padding-bottom: 5px !important;\n",
       "}\n",
       "\n",
       ".xr-var-attrs-in:checked ~ .xr-var-attrs,\n",
       ".xr-var-data-in:checked ~ .xr-var-data {\n",
       "  display: block;\n",
       "}\n",
       "\n",
       ".xr-var-data > table {\n",
       "  float: right;\n",
       "}\n",
       "\n",
       ".xr-var-name span,\n",
       ".xr-var-data,\n",
       ".xr-attrs {\n",
       "  padding-left: 25px !important;\n",
       "}\n",
       "\n",
       ".xr-attrs,\n",
       ".xr-var-attrs,\n",
       ".xr-var-data {\n",
       "  grid-column: 1 / -1;\n",
       "}\n",
       "\n",
       "dl.xr-attrs {\n",
       "  padding: 0;\n",
       "  margin: 0;\n",
       "  display: grid;\n",
       "  grid-template-columns: 125px auto;\n",
       "}\n",
       "\n",
       ".xr-attrs dt,\n",
       ".xr-attrs dd {\n",
       "  padding: 0;\n",
       "  margin: 0;\n",
       "  float: left;\n",
       "  padding-right: 10px;\n",
       "  width: auto;\n",
       "}\n",
       "\n",
       ".xr-attrs dt {\n",
       "  font-weight: normal;\n",
       "  grid-column: 1;\n",
       "}\n",
       "\n",
       ".xr-attrs dt:hover span {\n",
       "  display: inline-block;\n",
       "  background: var(--xr-background-color);\n",
       "  padding-right: 10px;\n",
       "}\n",
       "\n",
       ".xr-attrs dd {\n",
       "  grid-column: 2;\n",
       "  white-space: pre-wrap;\n",
       "  word-break: break-all;\n",
       "}\n",
       "\n",
       ".xr-icon-database,\n",
       ".xr-icon-file-text2 {\n",
       "  display: inline-block;\n",
       "  vertical-align: middle;\n",
       "  width: 1em;\n",
       "  height: 1.5em !important;\n",
       "  stroke-width: 0;\n",
       "  stroke: currentColor;\n",
       "  fill: currentColor;\n",
       "}\n",
       "</style><pre class='xr-text-repr-fallback'>&lt;xarray.Dataset&gt;\n",
       "Dimensions:           (channel_id: 2, time: 2750)\n",
       "Coordinates:\n",
       "  * time              (time) datetime64[ns] 2017-06-28T00:00:10.241754112 ......\n",
       "  * channel_id        (channel_id) object &#x27;channel_1&#x27; &#x27;channel_2&#x27;\n",
       "    cml_id            |S17 b&#x27;MY1394_2_MY2336_4&#x27;\n",
       "    site_a_latitude   float64 50.26\n",
       "    site_b_latitude   float64 50.38\n",
       "    site_a_longitude  float64 50.91\n",
       "    site_b_longitude  float64 50.38\n",
       "    frequency         (channel_id) float64 18.2 19.2\n",
       "    polarization      |S1 b&#x27;V&#x27;\n",
       "    length            float64 13.48\n",
       "Data variables:\n",
       "    tsl               (channel_id, time) float64 14.0 14.0 14.0 ... 14.0 13.0\n",
       "    rsl               (channel_id, time) float64 -47.0 -47.0 ... -47.0 -47.0</pre><div class='xr-wrap' hidden><div class='xr-header'><div class='xr-obj-type'>xarray.Dataset</div></div><ul class='xr-sections'><li class='xr-section-item'><input id='section-185b5fa5-05a0-4357-b0e0-614adae1ec4b' class='xr-section-summary-in' type='checkbox' disabled ><label for='section-185b5fa5-05a0-4357-b0e0-614adae1ec4b' class='xr-section-summary'  title='Expand/collapse section'>Dimensions:</label><div class='xr-section-inline-details'><ul class='xr-dim-list'><li><span class='xr-has-index'>channel_id</span>: 2</li><li><span class='xr-has-index'>time</span>: 2750</li></ul></div><div class='xr-section-details'></div></li><li class='xr-section-item'><input id='section-8fc6b9c6-5040-45f4-a2fe-f2b5acc5602f' class='xr-section-summary-in' type='checkbox'  checked><label for='section-8fc6b9c6-5040-45f4-a2fe-f2b5acc5602f' class='xr-section-summary' >Coordinates: <span>(10)</span></label><div class='xr-section-inline-details'></div><div class='xr-section-details'><ul class='xr-var-list'><li class='xr-var-item'><div class='xr-var-name'><span class='xr-has-index'>time</span></div><div class='xr-var-dims'>(time)</div><div class='xr-var-dtype'>datetime64[ns]</div><div class='xr-var-preview xr-preview'>2017-06-28T00:00:10.241754112 .....</div><input id='attrs-83864099-bec0-4957-aec5-c7e7d69197c8' class='xr-var-attrs-in' type='checkbox' disabled><label for='attrs-83864099-bec0-4957-aec5-c7e7d69197c8' title='Show/Hide attributes'><svg class='icon xr-icon-file-text2'><use xlink:href='#icon-file-text2'></use></svg></label><input id='data-0de2498f-48b6-4acb-8536-4c15a004462c' class='xr-var-data-in' type='checkbox'><label for='data-0de2498f-48b6-4acb-8536-4c15a004462c' title='Show/Hide data repr'><svg class='icon xr-icon-database'><use xlink:href='#icon-database'></use></svg></label><div class='xr-var-attrs'><dl class='xr-attrs'></dl></div><div class='xr-var-data'><pre>array([&#x27;2017-06-28T00:00:10.241754112&#x27;, &#x27;2017-06-28T00:01:10.248633088&#x27;,\n",
       "       &#x27;2017-06-28T00:02:10.265545984&#x27;, ..., &#x27;2017-06-29T23:57:10.245814016&#x27;,\n",
       "       &#x27;2017-06-29T23:58:10.252424960&#x27;, &#x27;2017-06-29T23:59:10.229434880&#x27;],\n",
       "      dtype=&#x27;datetime64[ns]&#x27;)</pre></div></li><li class='xr-var-item'><div class='xr-var-name'><span class='xr-has-index'>channel_id</span></div><div class='xr-var-dims'>(channel_id)</div><div class='xr-var-dtype'>object</div><div class='xr-var-preview xr-preview'>&#x27;channel_1&#x27; &#x27;channel_2&#x27;</div><input id='attrs-c7c397ab-3c9a-4fb7-a793-5efee2143775' class='xr-var-attrs-in' type='checkbox' disabled><label for='attrs-c7c397ab-3c9a-4fb7-a793-5efee2143775' title='Show/Hide attributes'><svg class='icon xr-icon-file-text2'><use xlink:href='#icon-file-text2'></use></svg></label><input id='data-caacb868-5f3a-48e2-be19-f88b0c6f88ba' class='xr-var-data-in' type='checkbox'><label for='data-caacb868-5f3a-48e2-be19-f88b0c6f88ba' title='Show/Hide data repr'><svg class='icon xr-icon-database'><use xlink:href='#icon-database'></use></svg></label><div class='xr-var-attrs'><dl class='xr-attrs'></dl></div><div class='xr-var-data'><pre>array([&#x27;channel_1&#x27;, &#x27;channel_2&#x27;], dtype=object)</pre></div></li><li class='xr-var-item'><div class='xr-var-name'><span>cml_id</span></div><div class='xr-var-dims'>()</div><div class='xr-var-dtype'>|S17</div><div class='xr-var-preview xr-preview'>b&#x27;MY1394_2_MY2336_4&#x27;</div><input id='attrs-554d25de-df28-4463-8f0a-935bab518186' class='xr-var-attrs-in' type='checkbox' disabled><label for='attrs-554d25de-df28-4463-8f0a-935bab518186' title='Show/Hide attributes'><svg class='icon xr-icon-file-text2'><use xlink:href='#icon-file-text2'></use></svg></label><input id='data-3a2c4eda-fb04-453b-8141-a3e7e4c2c8fe' class='xr-var-data-in' type='checkbox'><label for='data-3a2c4eda-fb04-453b-8141-a3e7e4c2c8fe' title='Show/Hide data repr'><svg class='icon xr-icon-database'><use xlink:href='#icon-database'></use></svg></label><div class='xr-var-attrs'><dl class='xr-attrs'></dl></div><div class='xr-var-data'><pre>array(b&#x27;MY1394_2_MY2336_4&#x27;, dtype=&#x27;|S17&#x27;)</pre></div></li><li class='xr-var-item'><div class='xr-var-name'><span>site_a_latitude</span></div><div class='xr-var-dims'>()</div><div class='xr-var-dtype'>float64</div><div class='xr-var-preview xr-preview'>50.26</div><input id='attrs-6f7da779-9b37-49bc-b3e4-ed9cad067c64' class='xr-var-attrs-in' type='checkbox' disabled><label for='attrs-6f7da779-9b37-49bc-b3e4-ed9cad067c64' title='Show/Hide attributes'><svg class='icon xr-icon-file-text2'><use xlink:href='#icon-file-text2'></use></svg></label><input id='data-abb13a44-f98f-4d20-8f86-204d2ad839e7' class='xr-var-data-in' type='checkbox'><label for='data-abb13a44-f98f-4d20-8f86-204d2ad839e7' title='Show/Hide data repr'><svg class='icon xr-icon-database'><use xlink:href='#icon-database'></use></svg></label><div class='xr-var-attrs'><dl class='xr-attrs'></dl></div><div class='xr-var-data'><pre>array(50.2572)</pre></div></li><li class='xr-var-item'><div class='xr-var-name'><span>site_b_latitude</span></div><div class='xr-var-dims'>()</div><div class='xr-var-dtype'>float64</div><div class='xr-var-preview xr-preview'>50.38</div><input id='attrs-7acd8e51-2276-40c7-8963-fc4caceacd75' class='xr-var-attrs-in' type='checkbox' disabled><label for='attrs-7acd8e51-2276-40c7-8963-fc4caceacd75' title='Show/Hide attributes'><svg class='icon xr-icon-file-text2'><use xlink:href='#icon-file-text2'></use></svg></label><input id='data-d13a3877-f724-41a2-8700-4387d5ef053c' class='xr-var-data-in' type='checkbox'><label for='data-d13a3877-f724-41a2-8700-4387d5ef053c' title='Show/Hide data repr'><svg class='icon xr-icon-database'><use xlink:href='#icon-database'></use></svg></label><div class='xr-var-attrs'><dl class='xr-attrs'></dl></div><div class='xr-var-data'><pre>array(50.38)</pre></div></li><li class='xr-var-item'><div class='xr-var-name'><span>site_a_longitude</span></div><div class='xr-var-dims'>()</div><div class='xr-var-dtype'>float64</div><div class='xr-var-preview xr-preview'>50.91</div><input id='attrs-06fb4a8b-98e9-4765-af23-7103f95ff00c' class='xr-var-attrs-in' type='checkbox' disabled><label for='attrs-06fb4a8b-98e9-4765-af23-7103f95ff00c' title='Show/Hide attributes'><svg class='icon xr-icon-file-text2'><use xlink:href='#icon-file-text2'></use></svg></label><input id='data-b5a40ac0-07b4-4e3c-9660-9230f14251c1' class='xr-var-data-in' type='checkbox'><label for='data-b5a40ac0-07b4-4e3c-9660-9230f14251c1' title='Show/Hide data repr'><svg class='icon xr-icon-database'><use xlink:href='#icon-database'></use></svg></label><div class='xr-var-attrs'><dl class='xr-attrs'></dl></div><div class='xr-var-data'><pre>array(50.9068)</pre></div></li><li class='xr-var-item'><div class='xr-var-name'><span>site_b_longitude</span></div><div class='xr-var-dims'>()</div><div class='xr-var-dtype'>float64</div><div class='xr-var-preview xr-preview'>50.38</div><input id='attrs-38a3360d-f728-4647-abd6-5964c9b3fe8e' class='xr-var-attrs-in' type='checkbox' disabled><label for='attrs-38a3360d-f728-4647-abd6-5964c9b3fe8e' title='Show/Hide attributes'><svg class='icon xr-icon-file-text2'><use xlink:href='#icon-file-text2'></use></svg></label><input id='data-b8957868-883c-4e20-b722-66b5b8a2b5d0' class='xr-var-data-in' type='checkbox'><label for='data-b8957868-883c-4e20-b722-66b5b8a2b5d0' title='Show/Hide data repr'><svg class='icon xr-icon-database'><use xlink:href='#icon-database'></use></svg></label><div class='xr-var-attrs'><dl class='xr-attrs'></dl></div><div class='xr-var-data'><pre>array(50.38)</pre></div></li><li class='xr-var-item'><div class='xr-var-name'><span>frequency</span></div><div class='xr-var-dims'>(channel_id)</div><div class='xr-var-dtype'>float64</div><div class='xr-var-preview xr-preview'>18.2 19.2</div><input id='attrs-169f059e-e331-4a19-9d89-0d6431809fb6' class='xr-var-attrs-in' type='checkbox' disabled><label for='attrs-169f059e-e331-4a19-9d89-0d6431809fb6' title='Show/Hide attributes'><svg class='icon xr-icon-file-text2'><use xlink:href='#icon-file-text2'></use></svg></label><input id='data-b9e23c79-6306-4d4a-8eb7-f4cf1dfdc583' class='xr-var-data-in' type='checkbox'><label for='data-b9e23c79-6306-4d4a-8eb7-f4cf1dfdc583' title='Show/Hide data repr'><svg class='icon xr-icon-database'><use xlink:href='#icon-database'></use></svg></label><div class='xr-var-attrs'><dl class='xr-attrs'></dl></div><div class='xr-var-data'><pre>array([18.195, 19.205])</pre></div></li><li class='xr-var-item'><div class='xr-var-name'><span>polarization</span></div><div class='xr-var-dims'>()</div><div class='xr-var-dtype'>|S1</div><div class='xr-var-preview xr-preview'>b&#x27;V&#x27;</div><input id='attrs-3fc08530-63fc-44aa-a43f-d30ade073550' class='xr-var-attrs-in' type='checkbox' disabled><label for='attrs-3fc08530-63fc-44aa-a43f-d30ade073550' title='Show/Hide attributes'><svg class='icon xr-icon-file-text2'><use xlink:href='#icon-file-text2'></use></svg></label><input id='data-9976042f-d857-4730-a32d-ddcb74bb2bb6' class='xr-var-data-in' type='checkbox'><label for='data-9976042f-d857-4730-a32d-ddcb74bb2bb6' title='Show/Hide data repr'><svg class='icon xr-icon-database'><use xlink:href='#icon-database'></use></svg></label><div class='xr-var-attrs'><dl class='xr-attrs'></dl></div><div class='xr-var-data'><pre>array(b&#x27;V&#x27;, dtype=&#x27;|S1&#x27;)</pre></div></li><li class='xr-var-item'><div class='xr-var-name'><span>length</span></div><div class='xr-var-dims'>()</div><div class='xr-var-dtype'>float64</div><div class='xr-var-preview xr-preview'>13.48</div><input id='attrs-c586e622-4707-460c-8341-b3d0c27b0587' class='xr-var-attrs-in' type='checkbox' disabled><label for='attrs-c586e622-4707-460c-8341-b3d0c27b0587' title='Show/Hide attributes'><svg class='icon xr-icon-file-text2'><use xlink:href='#icon-file-text2'></use></svg></label><input id='data-afa3061b-d1de-45ac-a3c3-694fb45a1724' class='xr-var-data-in' type='checkbox'><label for='data-afa3061b-d1de-45ac-a3c3-694fb45a1724' title='Show/Hide data repr'><svg class='icon xr-icon-database'><use xlink:href='#icon-database'></use></svg></label><div class='xr-var-attrs'><dl class='xr-attrs'></dl></div><div class='xr-var-data'><pre>array(13.47924516)</pre></div></li></ul></div></li><li class='xr-section-item'><input id='section-27761a3f-1f34-468b-8bda-7e9e33fe8f2f' class='xr-section-summary-in' type='checkbox'  checked><label for='section-27761a3f-1f34-468b-8bda-7e9e33fe8f2f' class='xr-section-summary' >Data variables: <span>(2)</span></label><div class='xr-section-inline-details'></div><div class='xr-section-details'><ul class='xr-var-list'><li class='xr-var-item'><div class='xr-var-name'><span>tsl</span></div><div class='xr-var-dims'>(channel_id, time)</div><div class='xr-var-dtype'>float64</div><div class='xr-var-preview xr-preview'>14.0 14.0 14.0 ... 13.0 14.0 13.0</div><input id='attrs-308b8fd1-0d7d-4433-9857-e401e39f3373' class='xr-var-attrs-in' type='checkbox' disabled><label for='attrs-308b8fd1-0d7d-4433-9857-e401e39f3373' title='Show/Hide attributes'><svg class='icon xr-icon-file-text2'><use xlink:href='#icon-file-text2'></use></svg></label><input id='data-e7eab796-179d-45a7-a13b-7c6632c3456f' class='xr-var-data-in' type='checkbox'><label for='data-e7eab796-179d-45a7-a13b-7c6632c3456f' title='Show/Hide data repr'><svg class='icon xr-icon-database'><use xlink:href='#icon-database'></use></svg></label><div class='xr-var-attrs'><dl class='xr-attrs'></dl></div><div class='xr-var-data'><pre>array([[14., 14., 14., ..., 14., 14., 14.],\n",
       "       [14., 14., 14., ..., 13., 14., 13.]])</pre></div></li><li class='xr-var-item'><div class='xr-var-name'><span>rsl</span></div><div class='xr-var-dims'>(channel_id, time)</div><div class='xr-var-dtype'>float64</div><div class='xr-var-preview xr-preview'>-47.0 -47.0 -47.0 ... -47.0 -47.0</div><input id='attrs-d11c4232-9d08-4efe-ac73-ec3e3b7c30e5' class='xr-var-attrs-in' type='checkbox' disabled><label for='attrs-d11c4232-9d08-4efe-ac73-ec3e3b7c30e5' title='Show/Hide attributes'><svg class='icon xr-icon-file-text2'><use xlink:href='#icon-file-text2'></use></svg></label><input id='data-0ddef4ec-23d6-47d9-9a0b-70ae83b71f83' class='xr-var-data-in' type='checkbox'><label for='data-0ddef4ec-23d6-47d9-9a0b-70ae83b71f83' title='Show/Hide data repr'><svg class='icon xr-icon-database'><use xlink:href='#icon-database'></use></svg></label><div class='xr-var-attrs'><dl class='xr-attrs'></dl></div><div class='xr-var-data'><pre>array([[-47. , -47. , -47. , ..., -46.7, -47. , -47. ],\n",
       "       [-47. , -47. , -47. , ..., -47. , -47. , -47. ]])</pre></div></li></ul></div></li><li class='xr-section-item'><input id='section-96374ff2-4910-4e26-83ff-fb5a64e59ee6' class='xr-section-summary-in' type='checkbox' disabled ><label for='section-96374ff2-4910-4e26-83ff-fb5a64e59ee6' class='xr-section-summary'  title='Expand/collapse section'>Attributes: <span>(0)</span></label><div class='xr-section-inline-details'></div><div class='xr-section-details'><dl class='xr-attrs'></dl></div></li></ul></div></div>"
      ],
      "text/plain": [
       "<xarray.Dataset>\n",
       "Dimensions:           (channel_id: 2, time: 2750)\n",
       "Coordinates:\n",
       "  * time              (time) datetime64[ns] 2017-06-28T00:00:10.241754112 ......\n",
       "  * channel_id        (channel_id) object 'channel_1' 'channel_2'\n",
       "    cml_id            |S17 b'MY1394_2_MY2336_4'\n",
       "    site_a_latitude   float64 50.26\n",
       "    site_b_latitude   float64 50.38\n",
       "    site_a_longitude  float64 50.91\n",
       "    site_b_longitude  float64 50.38\n",
       "    frequency         (channel_id) float64 18.2 19.2\n",
       "    polarization      |S1 b'V'\n",
       "    length            float64 13.48\n",
       "Data variables:\n",
       "    tsl               (channel_id, time) float64 14.0 14.0 14.0 ... 14.0 13.0\n",
       "    rsl               (channel_id, time) float64 -47.0 -47.0 ... -47.0 -47.0"
      ]
     },
     "execution_count": 5,
     "metadata": {},
     "output_type": "execute_result"
    }
   ],
   "source": [
    "cml = cml_list[0]\n",
    "cml"
   ]
  },
  {
   "cell_type": "code",
   "execution_count": 6,
   "metadata": {},
   "outputs": [
    {
     "data": {
      "application/vnd.jupyter.widget-view+json": {
       "model_id": "2cc89ecb6b2b479aa3b8762b93e0c9db",
       "version_major": 2,
       "version_minor": 0
      },
      "text/plain": [
       "Canvas(toolbar=Toolbar(toolitems=[('Home', 'Reset original view', 'home', 'home'), ('Back', 'Back to previous …"
      ]
     },
     "metadata": {},
     "output_type": "display_data"
    }
   ],
   "source": [
    "cml.rsl.plot.line(x='time', figsize=(10,3));"
   ]
  },
  {
   "cell_type": "markdown",
   "metadata": {},
   "source": [
    "# Set default values to NaN and calculate TRSL\n",
    "TRSL is the transmitted signal level minus the received signal level and represents the total path loss along the CML"
   ]
  },
  {
   "cell_type": "code",
   "execution_count": 7,
   "metadata": {},
   "outputs": [],
   "source": [
    "for cml in cml_list:\n",
    "    cml['tsl'] = cml.tsl.where(cml.tsl != 255.0)\n",
    "    cml['rsl'] = cml.rsl.where(cml.rsl != -99.9)\n",
    "    cml['trsl'] = cml.tsl - cml.rsl"
   ]
  },
  {
   "cell_type": "code",
   "execution_count": 8,
   "metadata": {},
   "outputs": [
    {
     "data": {
      "application/vnd.jupyter.widget-view+json": {
       "model_id": "0e49d63b76a54f788cad929ea061df04",
       "version_major": 2,
       "version_minor": 0
      },
      "text/plain": [
       "Canvas(toolbar=Toolbar(toolitems=[('Home', 'Reset original view', 'home', 'home'), ('Back', 'Back to previous …"
      ]
     },
     "metadata": {},
     "output_type": "display_data"
    }
   ],
   "source": [
    "cml = cml_list[0]\n",
    "cml.trsl.plot.line(x='time', figsize=(10,3));"
   ]
  },
  {
   "cell_type": "markdown",
   "metadata": {},
   "source": [
    "# Do simple wet-dry classification using a rolling standard deviation "
   ]
  },
  {
   "cell_type": "code",
   "execution_count": 9,
   "metadata": {},
   "outputs": [],
   "source": [
    "threshold = 0.8\n",
    "\n",
    "roll_std_dev = cml.trsl.rolling(time=60, center=True).std()\n",
    "cml['wet'] = cml.trsl.rolling(time=60, center=True).std() > threshold"
   ]
  },
  {
   "cell_type": "code",
   "execution_count": 58,
   "metadata": {},
   "outputs": [
    {
     "data": {
      "application/vnd.jupyter.widget-view+json": {
       "model_id": "bdef5a121ebe456ba99f7b019e8d9a15",
       "version_major": 2,
       "version_minor": 0
      },
      "text/plain": [
       "Canvas(toolbar=Toolbar(toolitems=[('Home', 'Reset original view', 'home', 'home'), ('Back', 'Back to previous …"
      ]
     },
     "metadata": {},
     "output_type": "display_data"
    }
   ],
   "source": [
    "fig, axs = plt.subplots(2, 1, figsize=(10,3), sharex=True)\n",
    "\n",
    "roll_std_dev.plot.line(x='time', ax=axs[0])\n",
    "axs[0].axhline(threshold, color='k', linestyle='--')\n",
    "\n",
    "cml.trsl.plot.line(x='time', ax=axs[1]);\n",
    "\n",
    "# Get start and end of dry event\n",
    "wet_start = np.roll(cml.wet, -1) & ~cml.wet\n",
    "wet_end = np.roll(cml.wet, 1) & ~cml.wet\n",
    "\n",
    "# Plot shaded area for each wet event\n",
    "for wet_start_i, wet_end_i in zip(\n",
    "    wet_start.isel(channel_id=0).values.nonzero()[0],\n",
    "    wet_end.isel(channel_id=0).values.nonzero()[0],\n",
    "):\n",
    "    axs[1].axvspan(cml.time.values[wet_start_i], cml.time.values[wet_end_i], color='b', alpha=0.1)\n",
    "\n",
    "axs[1].set_title('');"
   ]
  },
  {
   "cell_type": "markdown",
   "metadata": {},
   "source": [
    "# Determine baseline"
   ]
  },
  {
   "cell_type": "code",
   "execution_count": 60,
   "metadata": {},
   "outputs": [
    {
     "data": {
      "application/vnd.jupyter.widget-view+json": {
       "model_id": "d6565ee8a58a4b77b88f4fd354757b25",
       "version_major": 2,
       "version_minor": 0
      },
      "text/plain": [
       "Canvas(toolbar=Toolbar(toolitems=[('Home', 'Reset original view', 'home', 'home'), ('Back', 'Back to previous …"
      ]
     },
     "metadata": {},
     "output_type": "display_data"
    }
   ],
   "source": [
    "cml['baseline'] = pycml.processing.baseline.baseline_constant(trsl=cml.trsl, wet=cml.wet, n_average_last_dry=5)\n",
    "\n",
    "fig, ax = plt.subplots(figsize=(10,3))\n",
    "\n",
    "cml.trsl.plot.line(x='time', alpha=0.5)\n",
    "plt.gca().set_prop_cycle(None)\n",
    "cml.baseline.plot.line(x='time');\n",
    "plt.gca().set_prop_cycle(None)\n",
    "plt.ylabel('TRSL');"
   ]
  },
  {
   "cell_type": "markdown",
   "metadata": {},
   "source": [
    "# Perform wet antenna estimation and compare to uncorrected baseline "
   ]
  },
  {
   "cell_type": "code",
   "execution_count": 61,
   "metadata": {},
   "outputs": [],
   "source": [
    "cml['waa'] = pycml.processing.wet_antenna.waa_schleiss_2013(\n",
    "    rsl=cml.trsl, \n",
    "    baseline=cml.baseline, \n",
    "    wet=cml.wet, \n",
    "    waa_max=2.2, \n",
    "    delta_t=1, \n",
    "    tau=15,\n",
    ")"
   ]
  },
  {
   "cell_type": "code",
   "execution_count": 90,
   "metadata": {},
   "outputs": [
    {
     "data": {
      "application/vnd.jupyter.widget-view+json": {
       "model_id": "85790f58b0ee4248acf3a2efd0c9755c",
       "version_major": 2,
       "version_minor": 0
      },
      "text/plain": [
       "Canvas(toolbar=Toolbar(toolitems=[('Home', 'Reset original view', 'home', 'home'), ('Back', 'Back to previous …"
      ]
     },
     "metadata": {},
     "output_type": "display_data"
    }
   ],
   "source": [
    "fig, axs = plt.subplots(2, 1, figsize=(10,5), sharex=True)\n",
    "\n",
    "plt.sca(axs[0])\n",
    "cml.trsl.plot.line(x='time', alpha=0.5)\n",
    "plt.gca().set_prop_cycle(None)\n",
    "cml.baseline.plot.line(x='time', linestyle=':');\n",
    "plt.gca().set_prop_cycle(None)\n",
    "(cml.baseline + cml.waa).plot.line(x='time');\n",
    "plt.ylabel('TRSL (dB)')\n",
    "\n",
    "plt.sca(axs[1])\n",
    "cml['A'] = cml.trsl - cml.baseline - cml.waa\n",
    "cml['A'] = cml.A.where(cml.A > 0, 0)\n",
    "cml['A_no_waa_correct'] = cml.trsl - cml.baseline\n",
    "cml['A_no_waa_correct'] = cml.A_no_waa_correct.where(cml.A_no_waa_correct > 0, 0)\n",
    "cml.A_no_waa_correct.plot.line(x='time', linestyle=':');\n",
    "plt.gca().set_prop_cycle(None)\n",
    "cml.A.plot.line(x='time');\n",
    "plt.ylabel('path attenuation\\nfrom rain (dB)');\n",
    "axs[1].set_title('');"
   ]
  },
  {
   "cell_type": "markdown",
   "metadata": {},
   "source": [
    "# Calculate rain rate"
   ]
  },
  {
   "cell_type": "code",
   "execution_count": 88,
   "metadata": {},
   "outputs": [],
   "source": [
    "cml['R'] = pycml.processing.k_R_relation.calc_R_from_A(A=cml.A, L_km=cml.length, f_GHz=cml.frequency)"
   ]
  },
  {
   "cell_type": "code",
   "execution_count": 95,
   "metadata": {},
   "outputs": [
    {
     "data": {
      "application/vnd.jupyter.widget-view+json": {
       "model_id": "4bd0e877cef54c6d9f8e83398cdb0e17",
       "version_major": 2,
       "version_minor": 0
      },
      "text/plain": [
       "Canvas(toolbar=Toolbar(toolitems=[('Home', 'Reset original view', 'home', 'home'), ('Back', 'Back to previous …"
      ]
     },
     "metadata": {},
     "output_type": "display_data"
    }
   ],
   "source": [
    "fig, ax = plt.subplots(figsize=(10,3))\n",
    "cml.R.plot.line(x='time');"
   ]
  },
  {
   "cell_type": "markdown",
   "metadata": {},
   "source": [
    "# Now do the whole processing for all CMLs "
   ]
  },
  {
   "cell_type": "code",
   "execution_count": 103,
   "metadata": {},
   "outputs": [
    {
     "data": {
      "application/vnd.jupyter.widget-view+json": {
       "model_id": "3a1908a5891d4b68b07573555d404815",
       "version_major": 2,
       "version_minor": 0
      },
      "text/plain": [
       "  0%|          | 0/75 [00:00<?, ?it/s]"
      ]
     },
     "metadata": {},
     "output_type": "display_data"
    }
   ],
   "source": [
    "for cml in tqdm.notebook.tqdm(cml_list):\n",
    "    cml['wet'] = cml.trsl.rolling(time=60, center=True).std() > 0.8\n",
    "    cml['baseline'] = pycml.processing.baseline.baseline_constant(\n",
    "        trsl=cml.trsl, \n",
    "        wet=cml.wet, \n",
    "        n_average_last_dry=5,\n",
    "    )\n",
    "    cml['waa'] = pycml.processing.wet_antenna.waa_schleiss_2013(\n",
    "        rsl=cml.trsl, \n",
    "        baseline=cml.baseline, \n",
    "        wet=cml.wet, \n",
    "        waa_max=2.2, \n",
    "        delta_t=1, \n",
    "        tau=15,\n",
    "    )\n",
    "    cml['A'] = cml.trsl - cml.baseline - cml.waa\n",
    "    cml['R'] = pycml.processing.k_R_relation.calc_R_from_A(A=cml.A, L_km=cml.length, f_GHz=cml.frequency)\n"
   ]
  },
  {
   "cell_type": "code",
   "execution_count": null,
   "metadata": {},
   "outputs": [],
   "source": []
  }
 ],
 "metadata": {
  "kernelspec": {
   "display_name": "Python 3",
   "language": "python",
   "name": "python3"
  },
  "language_info": {
   "codemirror_mode": {
    "name": "ipython",
    "version": 3
   },
   "file_extension": ".py",
   "mimetype": "text/x-python",
   "name": "python",
   "nbconvert_exporter": "python",
   "pygments_lexer": "ipython3",
   "version": "3.7.10"
  }
 },
 "nbformat": 4,
 "nbformat_minor": 4
}
